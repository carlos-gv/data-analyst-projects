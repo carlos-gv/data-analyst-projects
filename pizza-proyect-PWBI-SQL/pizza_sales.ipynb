{
 "cells": [
  {
   "cell_type": "markdown",
   "metadata": {},
   "source": [
    "# SQL"
   ]
  },
  {
   "cell_type": "markdown",
   "metadata": {},
   "source": [
    "Total Revenue\n",
    "```SQL\n",
    "SELECT SUM(total_price) AS Total_Revenue FROM pizza_sales;\n",
    "```"
   ]
  },
  {
   "cell_type": "markdown",
   "metadata": {},
   "source": [
    "Average Order Value\n",
    "```SQL\n",
    "SELECT (SUM(total_price) / COUNT(DISTINCT order_id)) AS Avg_order_Value FROM pizza_sales\n",
    "```"
   ]
  },
  {
   "cell_type": "markdown",
   "metadata": {},
   "source": [
    "Total Pizzas Sold\n",
    "```SQL\n",
    "SELECT SUM(quantity) AS Total_pizza_sold FROM pizza_sales\n",
    "```"
   ]
  },
  {
   "cell_type": "markdown",
   "metadata": {},
   "source": [
    "Total Orders\n",
    "```SQL\n",
    "SELECT COUNT(DISTINCT order_id) AS Total_Orders FROM pizza_sales\n",
    "```"
   ]
  },
  {
   "cell_type": "markdown",
   "metadata": {},
   "source": [
    "Average Pizzas Per Order\n",
    "```SQL\n",
    "SELECT CAST(CAST(SUM(quantity) AS DECIMAL(10,2)) / \n",
    "CAST(COUNT(DISTINCT order_id) AS DECIMAL(10,2)) AS DECIMAL(10,2))\n",
    "AS Avg_Pizzas_per_order\n",
    "FROM pizza_sales\n",
    "\n",
    "```"
   ]
  },
  {
   "cell_type": "markdown",
   "metadata": {},
   "source": [
    "Since the date was in m/d/y/ format, I transform it into a date  format that mysql can recognize.\n",
    "Also changed the tipe of de time column to time.\n",
    "```SQL\n",
    "UPDATE pizza_sales\n",
    "SET order_date = STR_TO_DATE(order_date, '%m/%d/%y');\n",
    "\n",
    "ALTER TABLE pizza_sales\n",
    "MODIFY COLUMN order_time time;\n",
    "```"
   ]
  },
  {
   "cell_type": "markdown",
   "metadata": {},
   "source": [
    "Daily Trend For Total Orders\n",
    "```SQL\n",
    "SELECT DAYNAME(order_date) AS order_day, COUNT(DISTINCT order_id) AS total_orders \n",
    "FROM pizza_sales\n",
    "GROUP BY DAYNAME(DW, order_date)\n",
    "\n",
    "```"
   ]
  },
  {
   "cell_type": "markdown",
   "metadata": {},
   "source": [
    "Monthly Trend For Orders\n",
    "```SQL\n",
    "select MONTHNAME(order_date) as Month_Name, COUNT(DISTINCT order_id) as Total_Orders\n",
    "from pizza_sales\n",
    "GROUP BY MONTHNAME(order_date)\n",
    "```"
   ]
  },
  {
   "cell_type": "markdown",
   "metadata": {},
   "source": [
    "Percentaje of Sales Per Pizza Category\n",
    "```SQL\n",
    "SELECT pizza_category, CAST(SUM(total_price) AS DECIMAL(10,2)) as total_revenue,\n",
    "CAST(SUM(total_price) * 100 / (SELECT SUM(total_price) from pizza_sales) AS DECIMAL(10,2)) AS PCT\n",
    "FROM pizza_sales\n",
    "GROUP BY pizza_category\n",
    "\n",
    "```"
   ]
  },
  {
   "cell_type": "markdown",
   "metadata": {},
   "source": [
    "Percentaje of Sales by Pizza Size\n",
    "```SQL\n",
    "SELECT pizza_size, CAST(SUM(total_price) AS DECIMAL(10,2)) as total_revenue,\n",
    "CAST(SUM(total_price) * 100 / (SELECT SUM(total_price) from pizza_sales) AS DECIMAL(10,2)) AS PCT\n",
    "FROM pizza_sales\n",
    "GROUP BY pizza_size\n",
    "ORDER BY pizza_size\n",
    "\n",
    "```"
   ]
  },
  {
   "cell_type": "markdown",
   "metadata": {},
   "source": [
    "Total Pizza Sold by Pizza Category\n",
    "```SQL\n",
    "SELECT pizza_category, SUM(quantity) as Total_Quantity_Sold\n",
    "FROM pizza_sales\n",
    "WHERE MONTH(order_date) = 2\n",
    "GROUP BY pizza_category\n",
    "ORDER BY Total_Quantity_Sold DESC\n",
    "\n",
    "```"
   ]
  },
  {
   "cell_type": "markdown",
   "metadata": {},
   "source": [
    "Top 5 Pizzas by Revenue\n",
    "```SQL\n",
    "SELECT Top 5 pizza_name, SUM(total_price) AS Total_Revenue\n",
    "FROM pizza_sales\n",
    "GROUP BY pizza_name\n",
    "ORDER BY Total_Revenue DESC\n",
    "```"
   ]
  },
  {
   "cell_type": "markdown",
   "metadata": {},
   "source": [
    "Bottom 5 Pizzas by Revenue\n",
    "```SQL\n",
    "SELECT Top 5 pizza_name, SUM(total_price) AS Total_Revenue\n",
    "FROM pizza_sales\n",
    "GROUP BY pizza_name\n",
    "ORDER BY Total_Revenue ASC\n",
    "\n",
    "```"
   ]
  },
  {
   "cell_type": "markdown",
   "metadata": {},
   "source": [
    "Top 5 Pizzas by Quantity\n",
    "```SQL\n",
    "SELECT Top 5 pizza_name, SUM(quantity) AS Total_Pizza_Sold\n",
    "FROM pizza_sales\n",
    "GROUP BY pizza_name\n",
    "ORDER BY Total_Pizza_Sold DESC\n",
    "```"
   ]
  },
  {
   "cell_type": "markdown",
   "metadata": {},
   "source": [
    "Bottom 5 Pizzas by Quantity\n",
    "```SQL\n",
    "SELECT TOP 5 pizza_name, SUM(quantity) AS Total_Pizza_Sold\n",
    "FROM pizza_sales\n",
    "GROUP BY pizza_name\n",
    "ORDER BY Total_Pizza_Sold ASC\n",
    "\n",
    "```"
   ]
  },
  {
   "cell_type": "markdown",
   "metadata": {},
   "source": [
    "Top 5 Pizzas by Total Order\n",
    "```SQL\n",
    "SELECT Top 5 pizza_name, COUNT(DISTINCT order_id) AS Total_Orders\n",
    "FROM pizza_sales\n",
    "GROUP BY pizza_name\n",
    "ORDER BY Total_Orders DESC\n",
    "\n",
    "```"
   ]
  },
  {
   "cell_type": "markdown",
   "metadata": {},
   "source": [
    "Bottom 5 Pizzas by Total Order\n",
    "```SQL\n",
    "SELECT Top 5 pizza_name, COUNT(DISTINCT order_id) AS Total_Orders\n",
    "FROM pizza_sales\n",
    "GROUP BY pizza_name\n",
    "ORDER BY Total_Orders ASC\n",
    "\n",
    "```"
   ]
  }
 ],
 "metadata": {
  "kernelspec": {
   "display_name": "py39",
   "language": "python",
   "name": "python3"
  },
  "language_info": {
   "codemirror_mode": {
    "name": "ipython",
    "version": 3
   },
   "file_extension": ".py",
   "mimetype": "text/x-python",
   "name": "python",
   "nbconvert_exporter": "python",
   "pygments_lexer": "ipython3",
   "version": "3.9.17"
  }
 },
 "nbformat": 4,
 "nbformat_minor": 2
}
